{
 "cells": [
  {
   "cell_type": "markdown",
   "metadata": {},
   "source": [
    "# Imports"
   ]
  },
  {
   "cell_type": "code",
   "execution_count": 1,
   "metadata": {
    "ExecuteTime": {
     "end_time": "2019-12-19T10:09:22.923227Z",
     "start_time": "2019-12-19T10:09:22.468747Z"
    }
   },
   "outputs": [],
   "source": [
    "from bs4 import BeautifulSoup\n",
    "import urllib.parse\n",
    "import urllib.request\n",
    "import os\n",
    "import requests\n",
    "from IPython.core.debugger import set_trace\n",
    "import pandas as pd"
   ]
  },
  {
   "cell_type": "markdown",
   "metadata": {},
   "source": [
    "# Access Uniprot"
   ]
  },
  {
   "cell_type": "markdown",
   "metadata": {},
   "source": [
    "## Retrieve Entries from Uniprot"
   ]
  },
  {
   "cell_type": "code",
   "execution_count": 11,
   "metadata": {
    "ExecuteTime": {
     "end_time": "2019-12-19T11:27:25.050136Z",
     "start_time": "2019-12-19T11:27:20.539422Z"
    }
   },
   "outputs": [
    {
     "name": "stdout",
     "output_type": "stream",
     "text": [
      "Starting batch entry retrieval.\n",
      "finished\n"
     ]
    }
   ],
   "source": [
    "url = 'https://www.uniprot.org/uploadlists/'\n",
    "name_string = 'Q9XIE6 P98204 Q9C9Y1 Q8RX77 Q3E8X3 Q9LTW0 Q9M817 Q9LV10'\n",
    "\n",
    "params = {\n",
    "'from': 'ACC+ID',\n",
    "'to': 'ACC',\n",
    "'format': 'xml',\n",
    "'query': ' '.join(name_string.split('\\w'))\n",
    "}\n",
    "\n",
    "response = ''\n",
    "data = urllib.parse.urlencode(params)\n",
    "data = data.encode('utf-8')\n",
    "print('Starting batch entry retrieval.')\n",
    "req = urllib.request.Request(url, data)\n",
    "with urllib.request.urlopen(req) as f:\n",
    "    response = f.read().decode('utf-8')\n",
    "print('finished')"
   ]
  },
  {
   "cell_type": "markdown",
   "metadata": {},
   "source": [
    "## Extract Information of Entries"
   ]
  },
  {
   "cell_type": "code",
   "execution_count": 12,
   "metadata": {
    "ExecuteTime": {
     "end_time": "2019-12-19T11:27:30.428934Z",
     "start_time": "2019-12-19T11:27:30.424014Z"
    }
   },
   "outputs": [],
   "source": [
    "path = './Data/GO_Enrichment/RESULT_{}.txt'.format('FL_TransportLimited')"
   ]
  },
  {
   "cell_type": "code",
   "execution_count": 13,
   "metadata": {
    "ExecuteTime": {
     "end_time": "2019-12-19T11:27:33.356437Z",
     "start_time": "2019-12-19T11:27:32.962818Z"
    }
   },
   "outputs": [
    {
     "name": "stdout",
     "output_type": "stream",
     "text": [
      "Creating Soup...\n",
      "Soup Finished. Starting Parsing of Entries...\n",
      "Creating summary for : Q9XIE6\n",
      "Creating summary for : P98204\n",
      "Creating summary for : Q9C9Y1\n",
      "Creating summary for : Q8RX77\n",
      "Creating summary for : Q3E8X3\n",
      "Creating summary for : Q9LTW0\n",
      "Creating summary for : Q9M817\n",
      "Creating summary for : Q9LV10\n",
      "\n",
      "Q9XIE6 P98204 Q9C9Y1 Q8RX77 Q3E8X3 Q9LTW0 Q9M817 Q9LV10\n"
     ]
    }
   ],
   "source": [
    "outfile = open(path, 'a')\n",
    "accession_list = []\n",
    "print('Creating Soup...')\n",
    "FullSoup = BeautifulSoup(response, 'xml')\n",
    "print('Soup Finished. Starting Parsing of Entries...')\n",
    "\n",
    "for e in FullSoup.find_all('entry'):\n",
    "    accession = e.find('accession').text\n",
    "    uniprot_name = e.find('name').text\n",
    "    accession_list.append(accession)\n",
    "    \n",
    "    print('Creating summary for : {}'.format(accession))\n",
    "    function = e.find('comment', type=\"function\")\n",
    "    function = function.find('text').text if function != None else 'No function field found.'\n",
    "    \n",
    "    res_list = ['{} ({}, {})\\n{}\\n{}\\nGO-terms :\\n'.format(e.find(type=\"STRING\")['id'], accession, uniprot_name, e.protein.fullName.text, function)]\n",
    "    \n",
    "    for p in e.findAll(type=\"GO\"):\n",
    "        res_list.append('{}\\n'.format(p.property['value']))\n",
    "    res_list.append('\\n')\n",
    "    \n",
    "    outfile.write(''.join(res_list))\n",
    "        \n",
    "outfile.close()\n",
    "\n",
    "print('\\n' + ' '.join(accession_list))"
   ]
  }
 ],
 "metadata": {
  "hide_input": false,
  "kernelspec": {
   "display_name": "Python 3",
   "language": "python",
   "name": "python3"
  },
  "language_info": {
   "codemirror_mode": {
    "name": "ipython",
    "version": 3
   },
   "file_extension": ".py",
   "mimetype": "text/x-python",
   "name": "python",
   "nbconvert_exporter": "python",
   "pygments_lexer": "ipython3",
   "version": "3.7.3"
  },
  "toc": {
   "base_numbering": 1,
   "nav_menu": {
    "height": "22px",
    "width": "160px"
   },
   "number_sections": true,
   "sideBar": true,
   "skip_h1_title": false,
   "title_cell": "Table of Contents",
   "title_sidebar": "Contents",
   "toc_cell": false,
   "toc_position": {
    "height": "calc(100% - 180px)",
    "left": "10px",
    "top": "150px",
    "width": "285px"
   },
   "toc_section_display": true,
   "toc_window_display": true
  },
  "varInspector": {
   "cols": {
    "lenName": 16,
    "lenType": 16,
    "lenVar": 40
   },
   "kernels_config": {
    "python": {
     "delete_cmd_postfix": "",
     "delete_cmd_prefix": "del ",
     "library": "var_list.py",
     "varRefreshCmd": "print(var_dic_list())"
    },
    "r": {
     "delete_cmd_postfix": ") ",
     "delete_cmd_prefix": "rm(",
     "library": "var_list.r",
     "varRefreshCmd": "cat(var_dic_list()) "
    }
   },
   "oldHeight": 122,
   "position": {
    "height": "40px",
    "left": "971px",
    "right": "20px",
    "top": "4px",
    "width": "601px"
   },
   "types_to_exclude": [
    "module",
    "function",
    "builtin_function_or_method",
    "instance",
    "_Feature"
   ],
   "varInspector_section_display": "none",
   "window_display": true
  }
 },
 "nbformat": 4,
 "nbformat_minor": 2
}
